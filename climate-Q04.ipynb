{
 "cells": [
  {
   "cell_type": "markdown",
   "id": "63ed1f49-2486-4a8f-a674-28696adaf701",
   "metadata": {
    "user_expressions": []
   },
   "source": [
    "# Question 4: The West Coast Heatwave, Figure 1"
   ]
  },
  {
   "cell_type": "code",
   "execution_count": 1,
   "id": "92711e93-0ac8-4087-ab30-f6cdb475c5ec",
   "metadata": {},
   "outputs": [],
   "source": [
    "import matplotlib.pyplot as plt\n",
    "import numpy as np\n",
    "import pandas as pd\n",
    "import seaborn as sns\n",
    "import os\n",
    "\n",
    "from pathlib import Path\n",
    "\n",
    "# Small style adjustments for more readable plots\n",
    "plt.style.use(\"seaborn-v0_8-whitegrid\")\n",
    "plt.rcParams[\"figure.figsize\"] = (8, 6)\n",
    "plt.rcParams[\"font.size\"] = 14"
   ]
  },
  {
   "cell_type": "code",
   "execution_count": 2,
   "id": "8ed6f13e-1701-4d44-84bc-67c74dc26234",
   "metadata": {},
   "outputs": [],
   "source": [
    "import cartopy.crs as ccrs\n",
    "import cartopy.feature as cfeature\n",
    "import fsspec\n",
    "\n",
    "import xarray as xr\n",
    "xr.set_options(display_style=\"html\")  # display dataset nicely\n",
    "\n",
    "import warnings\n",
    "warnings.simplefilter(\"ignore\")  # filter some warning messages\n",
    "\n",
    "# code features from https://scitools.org.uk/cartopy/docs/v0.14/matplotlib/feature_interface.html\n",
    "crs = ccrs.PlateCarree()  # set projection"
   ]
  },
  {
   "cell_type": "code",
   "execution_count": 3,
   "id": "0653b1c0-c98c-4744-a03a-e77b6d3333d1",
   "metadata": {},
   "outputs": [],
   "source": [
    "ds = xr.open_dataset(\"~/shared/climate-data/ds_hw.nc\")"
   ]
  },
  {
   "cell_type": "markdown",
   "id": "a0363643-f15a-4846-8f2d-1b702b6d98ae",
   "metadata": {
    "user_expressions": []
   },
   "source": [
    "## Calculating SST Data from 2002-2012 for Anomaly Calculations"
   ]
  },
  {
   "cell_type": "markdown",
   "id": "2538f3e6-0a78-4f07-b086-438183911c1f",
   "metadata": {
    "tags": [],
    "user_expressions": []
   },
   "source": [
    "Figure 1 shows the monthly anomalies for 2014-2016, using SST from 2002-2012 per month and per location as the baseline. So, we first need to calculate this baseline, as well as gathering our relevant years."
   ]
  },
  {
   "cell_type": "code",
   "execution_count": 4,
   "id": "a310fad6-e76a-4a77-9052-21ce0b93b8f8",
   "metadata": {},
   "outputs": [],
   "source": [
    "trend_data = ds.analysed_sst.sel(time=slice('2002', '2012'))\n",
    "\n",
    "baseline = trend_data.groupby('time.dayofyear').mean(skipna=True)"
   ]
  },
  {
   "cell_type": "markdown",
   "id": "012f6f89-6891-42b6-9985-b0770ccc0a3f",
   "metadata": {
    "user_expressions": []
   },
   "source": [
    "## Creating Figures"
   ]
  },
  {
   "cell_type": "markdown",
   "id": "b67714b8-fccf-4fd3-a350-4ff90f7ac53c",
   "metadata": {
    "user_expressions": []
   },
   "source": [
    "We now plot the anomalies for 2014, 2015, and 2016 (only through September for 2016) based on location. We calculate the anomaly per month by subtracting the baseline month mean from the observed month mean, and then plot these on the maps based on the longitude and latitude. "
   ]
  },
  {
   "cell_type": "code",
   "execution_count": 12,
   "id": "bc7b8113-b78e-47ad-9fcb-42e6fcff8f60",
   "metadata": {},
   "outputs": [],
   "source": [
    "def get_anomaly(year, month):\n",
    "    '''Calculates the anomaly for the month in the given year year\n",
    "    '''\n",
    "    get_year = ds.analysed_sst.sel(time = (ds.time.dt.year == year))\n",
    "    month_mean = get_year.sel(time = (get_year.time.dt.month == month)).mean(dim='time')\n",
    "    return month_mean - baseline.sel(month == month)"
   ]
  },
  {
   "cell_type": "code",
   "execution_count": 13,
   "id": "46597b6f-7620-44ac-bd2e-6e12761fac3b",
   "metadata": {},
   "outputs": [],
   "source": [
    "def annotate_map(ax, month):\n",
    "    '''\n",
    "    Helper function for adding latitude/longitude ticks,\n",
    "    land lines, and subplot letter label to map.\n",
    "    '''\n",
    "    # add lat/lon axis ticks\n",
    "    ax.set_yticks([35, 40, 45], crs=crs)\n",
    "    ax.set_ylabel(None)\n",
    "    ax.set_xticks([-130, -120], crs=crs)\n",
    "    ax.set_xlabel(None)\n",
    "\n",
    "    # add land & coastlines\n",
    "    ax.coastlines(\"10m\", color=\"k\")\n",
    "    ax.add_feature(cfeature.LAND, color=\"grey\")\n",
    "    ax.add_feature(cfeature.STATES.with_scale(\"10m\"))\n",
    "\n",
    "    # add subplot month label in the top right\n",
    "    ax.text(-118.5, 48, month, c='white', size='xx-large',\n",
    "            weight=600, ha='right', va='top')"
   ]
  },
  {
   "cell_type": "code",
   "execution_count": 14,
   "id": "f081bd6b-4bcb-49da-acbe-8934cba8ba05",
   "metadata": {},
   "outputs": [],
   "source": [
    "def make_fig(ax, month):\n",
    "    '''Plots given anomaly\n",
    "    '''\n",
    "    # colorbar customization\n",
    "    cbar_kwargs = {\n",
    "        'location': 'bottom',\n",
    "        'orientation': 'horizontal',\n",
    "        'pad': 0.1,\n",
    "        'aspect': 30,\n",
    "        'label': '$\\Delta$ SST ($\\degree$C)',\n",
    "        'ticks': np.arange(6),\n",
    "    }\n",
    "\n",
    "    anomaly.plot(ax=ax, transform=crs, cmap='jet',\n",
    "                        cbar_kwargs=cbar_kwargs,\n",
    "                        vmin=0, vmax=5\n",
    "    )\n",
    "\n",
    "    annotate_map(ax, month)"
   ]
  },
  {
   "cell_type": "code",
   "execution_count": 15,
   "id": "6ccbccb2-17b0-4abd-8760-3b1163946b6b",
   "metadata": {},
   "outputs": [
    {
     "ename": "ValueError",
     "evalue": "the first argument to .sel must be a dictionary",
     "output_type": "error",
     "traceback": [
      "\u001b[0;31m---------------------------------------------------------------------------\u001b[0m",
      "\u001b[0;31mValueError\u001b[0m                                Traceback (most recent call last)",
      "Cell \u001b[0;32mIn[15], line 10\u001b[0m\n\u001b[1;32m      8\u001b[0m \u001b[38;5;28;01mif\u001b[39;00m year \u001b[38;5;241m==\u001b[39m \u001b[38;5;241m16\u001b[39m \u001b[38;5;241m&\u001b[39m month \u001b[38;5;241m==\u001b[39m \u001b[38;5;241m9\u001b[39m: \u001b[38;5;66;03m# don't need to plot beyond September for 2016\u001b[39;00m\n\u001b[1;32m      9\u001b[0m     \u001b[38;5;28;01mbreak\u001b[39;00m\n\u001b[0;32m---> 10\u001b[0m anomaly \u001b[38;5;241m=\u001b[39m \u001b[43mget_anomaly\u001b[49m\u001b[43m(\u001b[49m\u001b[43myear\u001b[49m\u001b[43m,\u001b[49m\u001b[43m \u001b[49m\u001b[43mmonth\u001b[49m\u001b[43m)\u001b[49m\n\u001b[1;32m     11\u001b[0m make_fig(plt\u001b[38;5;241m.\u001b[39msubplot(month, year \u001b[38;5;241m-\u001b[39m \u001b[38;5;241m2013\u001b[39m, year \u001b[38;5;241m-\u001b[39m \u001b[38;5;241m2013\u001b[39m), months[month\u001b[38;5;241m-\u001b[39m\u001b[38;5;241m1\u001b[39m])\n",
      "Cell \u001b[0;32mIn[12], line 6\u001b[0m, in \u001b[0;36mget_anomaly\u001b[0;34m(year, month)\u001b[0m\n\u001b[1;32m      4\u001b[0m get_year \u001b[38;5;241m=\u001b[39m ds\u001b[38;5;241m.\u001b[39manalysed_sst\u001b[38;5;241m.\u001b[39msel(time \u001b[38;5;241m=\u001b[39m (ds\u001b[38;5;241m.\u001b[39mtime\u001b[38;5;241m.\u001b[39mdt\u001b[38;5;241m.\u001b[39myear \u001b[38;5;241m==\u001b[39m year))\n\u001b[1;32m      5\u001b[0m month_mean \u001b[38;5;241m=\u001b[39m get_year\u001b[38;5;241m.\u001b[39msel(time \u001b[38;5;241m=\u001b[39m (get_year\u001b[38;5;241m.\u001b[39mtime\u001b[38;5;241m.\u001b[39mdt\u001b[38;5;241m.\u001b[39mmonth \u001b[38;5;241m==\u001b[39m month))\u001b[38;5;241m.\u001b[39mmean(dim\u001b[38;5;241m=\u001b[39m\u001b[38;5;124m'\u001b[39m\u001b[38;5;124mtime\u001b[39m\u001b[38;5;124m'\u001b[39m)\n\u001b[0;32m----> 6\u001b[0m \u001b[38;5;28;01mreturn\u001b[39;00m month_mean \u001b[38;5;241m-\u001b[39m \u001b[43mbaseline\u001b[49m\u001b[38;5;241;43m.\u001b[39;49m\u001b[43msel\u001b[49m\u001b[43m(\u001b[49m\u001b[43mmonth\u001b[49m\u001b[43m \u001b[49m\u001b[38;5;241;43m==\u001b[39;49m\u001b[43m \u001b[49m\u001b[43mmonth\u001b[49m\u001b[43m)\u001b[49m\n",
      "File \u001b[0;32m/srv/conda/envs/notebook/lib/python3.10/site-packages/xarray/core/dataarray.py:1536\u001b[0m, in \u001b[0;36mDataArray.sel\u001b[0;34m(self, indexers, method, tolerance, drop, **indexers_kwargs)\u001b[0m\n\u001b[1;32m   1426\u001b[0m \u001b[38;5;28;01mdef\u001b[39;00m \u001b[38;5;21msel\u001b[39m(\n\u001b[1;32m   1427\u001b[0m     \u001b[38;5;28mself\u001b[39m: T_DataArray,\n\u001b[1;32m   1428\u001b[0m     indexers: Mapping[Any, Any] \u001b[38;5;241m|\u001b[39m \u001b[38;5;28;01mNone\u001b[39;00m \u001b[38;5;241m=\u001b[39m \u001b[38;5;28;01mNone\u001b[39;00m,\n\u001b[0;32m   (...)\u001b[0m\n\u001b[1;32m   1432\u001b[0m     \u001b[38;5;241m*\u001b[39m\u001b[38;5;241m*\u001b[39mindexers_kwargs: Any,\n\u001b[1;32m   1433\u001b[0m ) \u001b[38;5;241m-\u001b[39m\u001b[38;5;241m>\u001b[39m T_DataArray:\n\u001b[1;32m   1434\u001b[0m     \u001b[38;5;124;03m\"\"\"Return a new DataArray whose data is given by selecting index\u001b[39;00m\n\u001b[1;32m   1435\u001b[0m \u001b[38;5;124;03m    labels along the specified dimension(s).\u001b[39;00m\n\u001b[1;32m   1436\u001b[0m \n\u001b[0;32m   (...)\u001b[0m\n\u001b[1;32m   1534\u001b[0m \u001b[38;5;124;03m    Dimensions without coordinates: points\u001b[39;00m\n\u001b[1;32m   1535\u001b[0m \u001b[38;5;124;03m    \"\"\"\u001b[39;00m\n\u001b[0;32m-> 1536\u001b[0m     ds \u001b[38;5;241m=\u001b[39m \u001b[38;5;28;43mself\u001b[39;49m\u001b[38;5;241;43m.\u001b[39;49m\u001b[43m_to_temp_dataset\u001b[49m\u001b[43m(\u001b[49m\u001b[43m)\u001b[49m\u001b[38;5;241;43m.\u001b[39;49m\u001b[43msel\u001b[49m\u001b[43m(\u001b[49m\n\u001b[1;32m   1537\u001b[0m \u001b[43m        \u001b[49m\u001b[43mindexers\u001b[49m\u001b[38;5;241;43m=\u001b[39;49m\u001b[43mindexers\u001b[49m\u001b[43m,\u001b[49m\n\u001b[1;32m   1538\u001b[0m \u001b[43m        \u001b[49m\u001b[43mdrop\u001b[49m\u001b[38;5;241;43m=\u001b[39;49m\u001b[43mdrop\u001b[49m\u001b[43m,\u001b[49m\n\u001b[1;32m   1539\u001b[0m \u001b[43m        \u001b[49m\u001b[43mmethod\u001b[49m\u001b[38;5;241;43m=\u001b[39;49m\u001b[43mmethod\u001b[49m\u001b[43m,\u001b[49m\n\u001b[1;32m   1540\u001b[0m \u001b[43m        \u001b[49m\u001b[43mtolerance\u001b[49m\u001b[38;5;241;43m=\u001b[39;49m\u001b[43mtolerance\u001b[49m\u001b[43m,\u001b[49m\n\u001b[1;32m   1541\u001b[0m \u001b[43m        \u001b[49m\u001b[38;5;241;43m*\u001b[39;49m\u001b[38;5;241;43m*\u001b[39;49m\u001b[43mindexers_kwargs\u001b[49m\u001b[43m,\u001b[49m\n\u001b[1;32m   1542\u001b[0m \u001b[43m    \u001b[49m\u001b[43m)\u001b[49m\n\u001b[1;32m   1543\u001b[0m     \u001b[38;5;28;01mreturn\u001b[39;00m \u001b[38;5;28mself\u001b[39m\u001b[38;5;241m.\u001b[39m_from_temp_dataset(ds)\n",
      "File \u001b[0;32m/srv/conda/envs/notebook/lib/python3.10/site-packages/xarray/core/dataset.py:2572\u001b[0m, in \u001b[0;36mDataset.sel\u001b[0;34m(self, indexers, method, tolerance, drop, **indexers_kwargs)\u001b[0m\n\u001b[1;32m   2504\u001b[0m \u001b[38;5;28;01mdef\u001b[39;00m \u001b[38;5;21msel\u001b[39m(\n\u001b[1;32m   2505\u001b[0m     \u001b[38;5;28mself\u001b[39m: T_Dataset,\n\u001b[1;32m   2506\u001b[0m     indexers: Mapping[Any, Any] \u001b[38;5;241m|\u001b[39m \u001b[38;5;28;01mNone\u001b[39;00m \u001b[38;5;241m=\u001b[39m \u001b[38;5;28;01mNone\u001b[39;00m,\n\u001b[0;32m   (...)\u001b[0m\n\u001b[1;32m   2510\u001b[0m     \u001b[38;5;241m*\u001b[39m\u001b[38;5;241m*\u001b[39mindexers_kwargs: Any,\n\u001b[1;32m   2511\u001b[0m ) \u001b[38;5;241m-\u001b[39m\u001b[38;5;241m>\u001b[39m T_Dataset:\n\u001b[1;32m   2512\u001b[0m     \u001b[38;5;124;03m\"\"\"Returns a new dataset with each array indexed by tick labels\u001b[39;00m\n\u001b[1;32m   2513\u001b[0m \u001b[38;5;124;03m    along the specified dimension(s).\u001b[39;00m\n\u001b[1;32m   2514\u001b[0m \n\u001b[0;32m   (...)\u001b[0m\n\u001b[1;32m   2570\u001b[0m \u001b[38;5;124;03m    DataArray.sel\u001b[39;00m\n\u001b[1;32m   2571\u001b[0m \u001b[38;5;124;03m    \"\"\"\u001b[39;00m\n\u001b[0;32m-> 2572\u001b[0m     indexers \u001b[38;5;241m=\u001b[39m \u001b[43meither_dict_or_kwargs\u001b[49m\u001b[43m(\u001b[49m\u001b[43mindexers\u001b[49m\u001b[43m,\u001b[49m\u001b[43m \u001b[49m\u001b[43mindexers_kwargs\u001b[49m\u001b[43m,\u001b[49m\u001b[43m \u001b[49m\u001b[38;5;124;43m\"\u001b[39;49m\u001b[38;5;124;43msel\u001b[39;49m\u001b[38;5;124;43m\"\u001b[39;49m\u001b[43m)\u001b[49m\n\u001b[1;32m   2573\u001b[0m     query_results \u001b[38;5;241m=\u001b[39m map_index_queries(\n\u001b[1;32m   2574\u001b[0m         \u001b[38;5;28mself\u001b[39m, indexers\u001b[38;5;241m=\u001b[39mindexers, method\u001b[38;5;241m=\u001b[39mmethod, tolerance\u001b[38;5;241m=\u001b[39mtolerance\n\u001b[1;32m   2575\u001b[0m     )\n\u001b[1;32m   2577\u001b[0m     \u001b[38;5;28;01mif\u001b[39;00m drop:\n",
      "File \u001b[0;32m/srv/conda/envs/notebook/lib/python3.10/site-packages/xarray/core/utils.py:279\u001b[0m, in \u001b[0;36meither_dict_or_kwargs\u001b[0;34m(pos_kwargs, kw_kwargs, func_name)\u001b[0m\n\u001b[1;32m    276\u001b[0m     \u001b[38;5;28;01mreturn\u001b[39;00m cast(Mapping[Hashable, T], kw_kwargs)\n\u001b[1;32m    278\u001b[0m \u001b[38;5;28;01mif\u001b[39;00m \u001b[38;5;129;01mnot\u001b[39;00m is_dict_like(pos_kwargs):\n\u001b[0;32m--> 279\u001b[0m     \u001b[38;5;28;01mraise\u001b[39;00m \u001b[38;5;167;01mValueError\u001b[39;00m(\u001b[38;5;124mf\u001b[39m\u001b[38;5;124m\"\u001b[39m\u001b[38;5;124mthe first argument to .\u001b[39m\u001b[38;5;132;01m{\u001b[39;00mfunc_name\u001b[38;5;132;01m}\u001b[39;00m\u001b[38;5;124m must be a dictionary\u001b[39m\u001b[38;5;124m\"\u001b[39m)\n\u001b[1;32m    280\u001b[0m \u001b[38;5;28;01mif\u001b[39;00m kw_kwargs:\n\u001b[1;32m    281\u001b[0m     \u001b[38;5;28;01mraise\u001b[39;00m \u001b[38;5;167;01mValueError\u001b[39;00m(\n\u001b[1;32m    282\u001b[0m         \u001b[38;5;124mf\u001b[39m\u001b[38;5;124m\"\u001b[39m\u001b[38;5;124mcannot specify both keyword and positional arguments to .\u001b[39m\u001b[38;5;132;01m{\u001b[39;00mfunc_name\u001b[38;5;132;01m}\u001b[39;00m\u001b[38;5;124m\"\u001b[39m\n\u001b[1;32m    283\u001b[0m     )\n",
      "\u001b[0;31mValueError\u001b[0m: the first argument to .sel must be a dictionary"
     ]
    },
    {
     "data": {
      "text/plain": [
       "<Figure size 800x600 with 0 Axes>"
      ]
     },
     "metadata": {},
     "output_type": "display_data"
    }
   ],
   "source": [
    "plt.figure()\n",
    "row = 1\n",
    "column = 1\n",
    "months = ['Jan', 'Feb', 'Mar', 'Apr', 'May', 'Jun', 'Jul', 'Aug', 'Sep', 'Oct', 'Nov', 'Dec']\n",
    "\n",
    "for year in np.arange(2014, 2017):\n",
    "    for month in np.arange(1, 13):\n",
    "        if year == 16 & month == 9: # don't need to plot beyond September for 2016\n",
    "            break\n",
    "        anomaly = get_anomaly(year, month)\n",
    "        make_fig(plt.subplot(month, year - 2013, year - 2013), months[month-1])"
   ]
  },
  {
   "cell_type": "code",
   "execution_count": null,
   "id": "2eb0f921-1ee7-4184-9ca8-1bd796b68284",
   "metadata": {},
   "outputs": [],
   "source": []
  }
 ],
 "metadata": {
  "kernelspec": {
   "display_name": "Python 3 (ipykernel)",
   "language": "python",
   "name": "python3"
  },
  "language_info": {
   "codemirror_mode": {
    "name": "ipython",
    "version": 3
   },
   "file_extension": ".py",
   "mimetype": "text/x-python",
   "name": "python",
   "nbconvert_exporter": "python",
   "pygments_lexer": "ipython3",
   "version": "3.10.8"
  }
 },
 "nbformat": 4,
 "nbformat_minor": 5
}
