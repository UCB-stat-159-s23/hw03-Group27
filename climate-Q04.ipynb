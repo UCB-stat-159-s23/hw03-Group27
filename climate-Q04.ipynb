{
 "cells": [
  {
   "cell_type": "markdown",
   "id": "63ed1f49-2486-4a8f-a674-28696adaf701",
   "metadata": {},
   "source": [
    "# Question 4: The West Coast Heatwave, Figure 1"
   ]
  },
  {
   "cell_type": "code",
   "execution_count": 1,
   "id": "92711e93-0ac8-4087-ab30-f6cdb475c5ec",
   "metadata": {},
   "outputs": [],
   "source": [
    "import matplotlib.pyplot as plt\n",
    "import numpy as np\n",
    "import pandas as pd\n",
    "import seaborn as sns\n",
    "import os\n",
    "\n",
    "from pathlib import Path\n",
    "\n",
    "# Small style adjustments for more readable plots\n",
    "plt.style.use(\"seaborn-v0_8-whitegrid\")\n",
    "plt.rcParams[\"figure.figsize\"] = (8, 6)\n",
    "plt.rcParams[\"font.size\"] = 14"
   ]
  },
  {
   "cell_type": "code",
   "execution_count": 2,
   "id": "8ed6f13e-1701-4d44-84bc-67c74dc26234",
   "metadata": {},
   "outputs": [],
   "source": [
    "import cartopy.crs as ccrs\n",
    "import cartopy.feature as cfeature\n",
    "import fsspec\n",
    "\n",
    "import xarray as xr\n",
    "xr.set_options(display_style=\"html\")  # display dataset nicely\n",
    "\n",
    "import warnings\n",
    "warnings.simplefilter(\"ignore\")  # filter some warning messages\n",
    "\n",
    "# code features from https://scitools.org.uk/cartopy/docs/v0.14/matplotlib/feature_interface.html\n",
    "crs = ccrs.PlateCarree()  # set projection"
   ]
  },
  {
   "cell_type": "code",
   "execution_count": 3,
   "id": "0653b1c0-c98c-4744-a03a-e77b6d3333d1",
   "metadata": {},
   "outputs": [],
   "source": [
    "ds = xr.open_dataset(\"~/shared/climate-data/ds_hw.nc\")"
   ]
  },
  {
   "cell_type": "markdown",
   "id": "a0363643-f15a-4846-8f2d-1b702b6d98ae",
   "metadata": {},
   "source": [
    "## Calculating SST Data from 2002-2012 for Anomaly Calculations"
   ]
  },
  {
   "cell_type": "markdown",
   "id": "2538f3e6-0a78-4f07-b086-438183911c1f",
   "metadata": {
    "tags": []
   },
   "source": [
    "Figure 1 shows the monthly anomalies for 2014-2016, using SST from 2002-2012 per month and per location as the baseline. So, we first need to calculate this baseline, as well as gathering our relevant years."
   ]
  },
  {
   "cell_type": "code",
   "execution_count": 10,
   "id": "a310fad6-e76a-4a77-9052-21ce0b93b8f8",
   "metadata": {},
   "outputs": [],
   "source": [
    "trend_data = ds.analysed_sst.sel(time=slice('2002', '2012'))\n",
    "\n",
    "baseline = trend_data.groupby('time.month').mean(skipna=True)"
   ]
  },
  {
   "cell_type": "markdown",
   "id": "012f6f89-6891-42b6-9985-b0770ccc0a3f",
   "metadata": {
    "user_expressions": []
   },
   "source": [
    "## Creating Figures"
   ]
  },
  {
   "cell_type": "markdown",
   "id": "b67714b8-fccf-4fd3-a350-4ff90f7ac53c",
   "metadata": {
    "user_expressions": []
   },
   "source": [
    "We now plot the anomalies for 2014, 2015, and 2016 (only through September for 2016) based on location. We calculate the anomaly per month by subtracting the baseline month mean from the observed month mean, and then plot these on the maps based on the longitude and latitude. "
   ]
  },
  {
   "cell_type": "code",
   "execution_count": 22,
   "id": "bc7b8113-b78e-47ad-9fcb-42e6fcff8f60",
   "metadata": {},
   "outputs": [],
   "source": [
    "def get_anomaly(year, mon):\n",
    "    '''Calculates the anomaly for the month in the given year year\n",
    "    '''\n",
    "    get_year = ds.analysed_sst.sel(time=(ds.time.dt.year == year))\n",
    "    month_mean = get_year.sel(time=(get_year.time.dt.month == mon)).mean(dim='time')\n",
    "    return month_mean - baseline.sel(month=mon)"
   ]
  },
  {
   "cell_type": "code",
   "execution_count": 23,
   "id": "46597b6f-7620-44ac-bd2e-6e12761fac3b",
   "metadata": {},
   "outputs": [],
   "source": [
    "def annotate_map(ax, month):\n",
    "    '''\n",
    "    Helper function for adding latitude/longitude ticks,\n",
    "    land lines, and subplot letter label to map.\n",
    "    '''\n",
    "    # add lat/lon axis ticks\n",
    "    ax.set_yticks([35, 40, 45], crs=crs)\n",
    "    ax.set_ylabel(None)\n",
    "    ax.set_xticks([-130, -120], crs=crs)\n",
    "    ax.set_xlabel(None)\n",
    "\n",
    "    # add land & coastlines\n",
    "    ax.coastlines(\"10m\", color=\"k\")\n",
    "    ax.add_feature(cfeature.LAND, color=\"grey\")\n",
    "    ax.add_feature(cfeature.STATES.with_scale(\"10m\"))\n",
    "\n",
    "    # add subplot month label in the top right\n",
    "    ax.text(-118.5, 48, month, c='white', size='xx-large',\n",
    "            weight=600, ha='right', va='top')"
   ]
  },
  {
   "cell_type": "code",
   "execution_count": 26,
   "id": "f081bd6b-4bcb-49da-acbe-8934cba8ba05",
   "metadata": {},
   "outputs": [],
   "source": [
    "def make_fig(ax, month, anomaly):\n",
    "    '''Plots given anomaly\n",
    "    '''\n",
    "    # colorbar customization\n",
    "    cbar_kwargs = {\n",
    "        'location': 'bottom',\n",
    "        'orientation': 'horizontal',\n",
    "        'pad': 0.1,\n",
    "        'aspect': 30,\n",
    "        'label': '$\\Delta$ SST ($\\degree$C)',\n",
    "        'ticks': np.arange(6),\n",
    "    }\n",
    "\n",
    "    anomaly.plot(ax=ax, transform=crs, cmap='jet',\n",
    "                        cbar_kwargs=cbar_kwargs,\n",
    "                        vmin=0, vmax=5\n",
    "    )\n",
    "\n",
    "    annotate_map(ax, month)"
   ]
  },
  {
   "cell_type": "code",
   "execution_count": 28,
   "id": "6ccbccb2-17b0-4abd-8760-3b1163946b6b",
   "metadata": {},
   "outputs": [
    {
     "ename": "ValueError",
     "evalue": "Axes should be an instance of GeoAxes, got <class 'matplotlib.axes._subplots.AxesSubplot'>",
     "output_type": "error",
     "traceback": [
      "\u001b[0;31m---------------------------------------------------------------------------\u001b[0m",
      "\u001b[0;31mValueError\u001b[0m                                Traceback (most recent call last)",
      "Cell \u001b[0;32mIn[28], line 11\u001b[0m\n\u001b[1;32m      9\u001b[0m     \u001b[38;5;28;01mbreak\u001b[39;00m\n\u001b[1;32m     10\u001b[0m anomaly \u001b[38;5;241m=\u001b[39m get_anomaly(year, month)\n\u001b[0;32m---> 11\u001b[0m \u001b[43mmake_fig\u001b[49m\u001b[43m(\u001b[49m\u001b[43mplt\u001b[49m\u001b[38;5;241;43m.\u001b[39;49m\u001b[43msubplot\u001b[49m\u001b[43m(\u001b[49m\u001b[43mmonth\u001b[49m\u001b[43m,\u001b[49m\u001b[43m \u001b[49m\u001b[43myear\u001b[49m\u001b[43m \u001b[49m\u001b[38;5;241;43m-\u001b[39;49m\u001b[43m \u001b[49m\u001b[38;5;241;43m2013\u001b[39;49m\u001b[43m,\u001b[49m\u001b[43m \u001b[49m\u001b[43myear\u001b[49m\u001b[43m \u001b[49m\u001b[38;5;241;43m-\u001b[39;49m\u001b[43m \u001b[49m\u001b[38;5;241;43m2013\u001b[39;49m\u001b[43m)\u001b[49m\u001b[43m,\u001b[49m\u001b[43m \u001b[49m\u001b[43mmonths\u001b[49m\u001b[43m[\u001b[49m\u001b[43mmonth\u001b[49m\u001b[38;5;241;43m-\u001b[39;49m\u001b[38;5;241;43m1\u001b[39;49m\u001b[43m]\u001b[49m\u001b[43m,\u001b[49m\u001b[43m \u001b[49m\u001b[43manomaly\u001b[49m\u001b[43m)\u001b[49m\n",
      "Cell \u001b[0;32mIn[26], line 14\u001b[0m, in \u001b[0;36mmake_fig\u001b[0;34m(ax, month, anomaly)\u001b[0m\n\u001b[1;32m      4\u001b[0m \u001b[38;5;66;03m# colorbar customization\u001b[39;00m\n\u001b[1;32m      5\u001b[0m cbar_kwargs \u001b[38;5;241m=\u001b[39m {\n\u001b[1;32m      6\u001b[0m     \u001b[38;5;124m'\u001b[39m\u001b[38;5;124mlocation\u001b[39m\u001b[38;5;124m'\u001b[39m: \u001b[38;5;124m'\u001b[39m\u001b[38;5;124mbottom\u001b[39m\u001b[38;5;124m'\u001b[39m,\n\u001b[1;32m      7\u001b[0m     \u001b[38;5;124m'\u001b[39m\u001b[38;5;124morientation\u001b[39m\u001b[38;5;124m'\u001b[39m: \u001b[38;5;124m'\u001b[39m\u001b[38;5;124mhorizontal\u001b[39m\u001b[38;5;124m'\u001b[39m,\n\u001b[0;32m   (...)\u001b[0m\n\u001b[1;32m     11\u001b[0m     \u001b[38;5;124m'\u001b[39m\u001b[38;5;124mticks\u001b[39m\u001b[38;5;124m'\u001b[39m: np\u001b[38;5;241m.\u001b[39marange(\u001b[38;5;241m6\u001b[39m),\n\u001b[1;32m     12\u001b[0m }\n\u001b[0;32m---> 14\u001b[0m \u001b[43manomaly\u001b[49m\u001b[38;5;241;43m.\u001b[39;49m\u001b[43mplot\u001b[49m\u001b[43m(\u001b[49m\u001b[43max\u001b[49m\u001b[38;5;241;43m=\u001b[39;49m\u001b[43max\u001b[49m\u001b[43m,\u001b[49m\u001b[43m \u001b[49m\u001b[43mtransform\u001b[49m\u001b[38;5;241;43m=\u001b[39;49m\u001b[43mcrs\u001b[49m\u001b[43m,\u001b[49m\u001b[43m \u001b[49m\u001b[43mcmap\u001b[49m\u001b[38;5;241;43m=\u001b[39;49m\u001b[38;5;124;43m'\u001b[39;49m\u001b[38;5;124;43mjet\u001b[39;49m\u001b[38;5;124;43m'\u001b[39;49m\u001b[43m,\u001b[49m\n\u001b[1;32m     15\u001b[0m \u001b[43m                    \u001b[49m\u001b[43mcbar_kwargs\u001b[49m\u001b[38;5;241;43m=\u001b[39;49m\u001b[43mcbar_kwargs\u001b[49m\u001b[43m,\u001b[49m\n\u001b[1;32m     16\u001b[0m \u001b[43m                    \u001b[49m\u001b[43mvmin\u001b[49m\u001b[38;5;241;43m=\u001b[39;49m\u001b[38;5;241;43m0\u001b[39;49m\u001b[43m,\u001b[49m\u001b[43m \u001b[49m\u001b[43mvmax\u001b[49m\u001b[38;5;241;43m=\u001b[39;49m\u001b[38;5;241;43m5\u001b[39;49m\n\u001b[1;32m     17\u001b[0m \u001b[43m\u001b[49m\u001b[43m)\u001b[49m\n\u001b[1;32m     19\u001b[0m annotate_map(ax, month)\n",
      "File \u001b[0;32m/srv/conda/envs/notebook/lib/python3.10/site-packages/xarray/plot/accessor.py:46\u001b[0m, in \u001b[0;36mDataArrayPlotAccessor.__call__\u001b[0;34m(self, **kwargs)\u001b[0m\n\u001b[1;32m     44\u001b[0m \u001b[38;5;129m@functools\u001b[39m\u001b[38;5;241m.\u001b[39mwraps(dataarray_plot\u001b[38;5;241m.\u001b[39mplot, assigned\u001b[38;5;241m=\u001b[39m(\u001b[38;5;124m\"\u001b[39m\u001b[38;5;124m__doc__\u001b[39m\u001b[38;5;124m\"\u001b[39m, \u001b[38;5;124m\"\u001b[39m\u001b[38;5;124m__annotations__\u001b[39m\u001b[38;5;124m\"\u001b[39m))\n\u001b[1;32m     45\u001b[0m \u001b[38;5;28;01mdef\u001b[39;00m \u001b[38;5;21m__call__\u001b[39m(\u001b[38;5;28mself\u001b[39m, \u001b[38;5;241m*\u001b[39m\u001b[38;5;241m*\u001b[39mkwargs) \u001b[38;5;241m-\u001b[39m\u001b[38;5;241m>\u001b[39m Any:\n\u001b[0;32m---> 46\u001b[0m     \u001b[38;5;28;01mreturn\u001b[39;00m \u001b[43mdataarray_plot\u001b[49m\u001b[38;5;241;43m.\u001b[39;49m\u001b[43mplot\u001b[49m\u001b[43m(\u001b[49m\u001b[38;5;28;43mself\u001b[39;49m\u001b[38;5;241;43m.\u001b[39;49m\u001b[43m_da\u001b[49m\u001b[43m,\u001b[49m\u001b[43m \u001b[49m\u001b[38;5;241;43m*\u001b[39;49m\u001b[38;5;241;43m*\u001b[39;49m\u001b[43mkwargs\u001b[49m\u001b[43m)\u001b[49m\n",
      "File \u001b[0;32m/srv/conda/envs/notebook/lib/python3.10/site-packages/xarray/plot/dataarray_plot.py:312\u001b[0m, in \u001b[0;36mplot\u001b[0;34m(darray, row, col, col_wrap, ax, hue, subplot_kws, **kwargs)\u001b[0m\n\u001b[1;32m    308\u001b[0m     plotfunc \u001b[38;5;241m=\u001b[39m hist\n\u001b[1;32m    310\u001b[0m kwargs[\u001b[38;5;124m\"\u001b[39m\u001b[38;5;124max\u001b[39m\u001b[38;5;124m\"\u001b[39m] \u001b[38;5;241m=\u001b[39m ax\n\u001b[0;32m--> 312\u001b[0m \u001b[38;5;28;01mreturn\u001b[39;00m \u001b[43mplotfunc\u001b[49m\u001b[43m(\u001b[49m\u001b[43mdarray\u001b[49m\u001b[43m,\u001b[49m\u001b[43m \u001b[49m\u001b[38;5;241;43m*\u001b[39;49m\u001b[38;5;241;43m*\u001b[39;49m\u001b[43mkwargs\u001b[49m\u001b[43m)\u001b[49m\n",
      "File \u001b[0;32m/srv/conda/envs/notebook/lib/python3.10/site-packages/xarray/plot/dataarray_plot.py:1613\u001b[0m, in \u001b[0;36m_plot2d.<locals>.newplotfunc\u001b[0;34m(***failed resolving arguments***)\u001b[0m\n\u001b[1;32m   1609\u001b[0m     \u001b[38;5;28;01mraise\u001b[39;00m \u001b[38;5;167;01mValueError\u001b[39;00m(\u001b[38;5;124m\"\u001b[39m\u001b[38;5;124mplt.imshow\u001b[39m\u001b[38;5;124m'\u001b[39m\u001b[38;5;124ms `aspect` kwarg is not available in xarray\u001b[39m\u001b[38;5;124m\"\u001b[39m)\n\u001b[1;32m   1611\u001b[0m ax \u001b[38;5;241m=\u001b[39m get_axis(figsize, size, aspect, ax, \u001b[38;5;241m*\u001b[39m\u001b[38;5;241m*\u001b[39msubplot_kws)\n\u001b[0;32m-> 1613\u001b[0m primitive \u001b[38;5;241m=\u001b[39m \u001b[43mplotfunc\u001b[49m\u001b[43m(\u001b[49m\n\u001b[1;32m   1614\u001b[0m \u001b[43m    \u001b[49m\u001b[43mxplt\u001b[49m\u001b[43m,\u001b[49m\n\u001b[1;32m   1615\u001b[0m \u001b[43m    \u001b[49m\u001b[43myplt\u001b[49m\u001b[43m,\u001b[49m\n\u001b[1;32m   1616\u001b[0m \u001b[43m    \u001b[49m\u001b[43mzval\u001b[49m\u001b[43m,\u001b[49m\n\u001b[1;32m   1617\u001b[0m \u001b[43m    \u001b[49m\u001b[43max\u001b[49m\u001b[38;5;241;43m=\u001b[39;49m\u001b[43max\u001b[49m\u001b[43m,\u001b[49m\n\u001b[1;32m   1618\u001b[0m \u001b[43m    \u001b[49m\u001b[43mcmap\u001b[49m\u001b[38;5;241;43m=\u001b[39;49m\u001b[43mcmap_params\u001b[49m\u001b[43m[\u001b[49m\u001b[38;5;124;43m\"\u001b[39;49m\u001b[38;5;124;43mcmap\u001b[39;49m\u001b[38;5;124;43m\"\u001b[39;49m\u001b[43m]\u001b[49m\u001b[43m,\u001b[49m\n\u001b[1;32m   1619\u001b[0m \u001b[43m    \u001b[49m\u001b[43mvmin\u001b[49m\u001b[38;5;241;43m=\u001b[39;49m\u001b[43mcmap_params\u001b[49m\u001b[43m[\u001b[49m\u001b[38;5;124;43m\"\u001b[39;49m\u001b[38;5;124;43mvmin\u001b[39;49m\u001b[38;5;124;43m\"\u001b[39;49m\u001b[43m]\u001b[49m\u001b[43m,\u001b[49m\n\u001b[1;32m   1620\u001b[0m \u001b[43m    \u001b[49m\u001b[43mvmax\u001b[49m\u001b[38;5;241;43m=\u001b[39;49m\u001b[43mcmap_params\u001b[49m\u001b[43m[\u001b[49m\u001b[38;5;124;43m\"\u001b[39;49m\u001b[38;5;124;43mvmax\u001b[39;49m\u001b[38;5;124;43m\"\u001b[39;49m\u001b[43m]\u001b[49m\u001b[43m,\u001b[49m\n\u001b[1;32m   1621\u001b[0m \u001b[43m    \u001b[49m\u001b[43mnorm\u001b[49m\u001b[38;5;241;43m=\u001b[39;49m\u001b[43mcmap_params\u001b[49m\u001b[43m[\u001b[49m\u001b[38;5;124;43m\"\u001b[39;49m\u001b[38;5;124;43mnorm\u001b[39;49m\u001b[38;5;124;43m\"\u001b[39;49m\u001b[43m]\u001b[49m\u001b[43m,\u001b[49m\n\u001b[1;32m   1622\u001b[0m \u001b[43m    \u001b[49m\u001b[38;5;241;43m*\u001b[39;49m\u001b[38;5;241;43m*\u001b[39;49m\u001b[43mkwargs\u001b[49m\u001b[43m,\u001b[49m\n\u001b[1;32m   1623\u001b[0m \u001b[43m\u001b[49m\u001b[43m)\u001b[49m\n\u001b[1;32m   1625\u001b[0m \u001b[38;5;66;03m# Label the plot with metadata\u001b[39;00m\n\u001b[1;32m   1626\u001b[0m \u001b[38;5;28;01mif\u001b[39;00m add_labels:\n",
      "File \u001b[0;32m/srv/conda/envs/notebook/lib/python3.10/site-packages/xarray/plot/dataarray_plot.py:2340\u001b[0m, in \u001b[0;36mpcolormesh\u001b[0;34m(x, y, z, ax, xscale, yscale, infer_intervals, **kwargs)\u001b[0m\n\u001b[1;32m   2337\u001b[0m         y \u001b[38;5;241m=\u001b[39m _infer_interval_breaks(y, axis\u001b[38;5;241m=\u001b[39m\u001b[38;5;241m0\u001b[39m, scale\u001b[38;5;241m=\u001b[39myscale)\n\u001b[1;32m   2339\u001b[0m ax\u001b[38;5;241m.\u001b[39mgrid(\u001b[38;5;28;01mFalse\u001b[39;00m)\n\u001b[0;32m-> 2340\u001b[0m primitive \u001b[38;5;241m=\u001b[39m \u001b[43max\u001b[49m\u001b[38;5;241;43m.\u001b[39;49m\u001b[43mpcolormesh\u001b[49m\u001b[43m(\u001b[49m\u001b[43mx\u001b[49m\u001b[43m,\u001b[49m\u001b[43m \u001b[49m\u001b[43my\u001b[49m\u001b[43m,\u001b[49m\u001b[43m \u001b[49m\u001b[43mz\u001b[49m\u001b[43m,\u001b[49m\u001b[43m \u001b[49m\u001b[38;5;241;43m*\u001b[39;49m\u001b[38;5;241;43m*\u001b[39;49m\u001b[43mkwargs\u001b[49m\u001b[43m)\u001b[49m\n\u001b[1;32m   2342\u001b[0m \u001b[38;5;66;03m# by default, pcolormesh picks \"round\" values for bounds\u001b[39;00m\n\u001b[1;32m   2343\u001b[0m \u001b[38;5;66;03m# this results in ugly looking plots with lots of surrounding whitespace\u001b[39;00m\n\u001b[1;32m   2344\u001b[0m \u001b[38;5;28;01mif\u001b[39;00m \u001b[38;5;129;01mnot\u001b[39;00m \u001b[38;5;28mhasattr\u001b[39m(ax, \u001b[38;5;124m\"\u001b[39m\u001b[38;5;124mprojection\u001b[39m\u001b[38;5;124m\"\u001b[39m) \u001b[38;5;129;01mand\u001b[39;00m x\u001b[38;5;241m.\u001b[39mndim \u001b[38;5;241m==\u001b[39m \u001b[38;5;241m1\u001b[39m \u001b[38;5;129;01mand\u001b[39;00m y\u001b[38;5;241m.\u001b[39mndim \u001b[38;5;241m==\u001b[39m \u001b[38;5;241m1\u001b[39m:\n\u001b[1;32m   2345\u001b[0m     \u001b[38;5;66;03m# not a cartopy geoaxis\u001b[39;00m\n",
      "File \u001b[0;32m/srv/conda/envs/notebook/lib/python3.10/site-packages/matplotlib/__init__.py:1433\u001b[0m, in \u001b[0;36m_preprocess_data.<locals>.inner\u001b[0;34m(ax, data, *args, **kwargs)\u001b[0m\n\u001b[1;32m   1430\u001b[0m \u001b[38;5;129m@functools\u001b[39m\u001b[38;5;241m.\u001b[39mwraps(func)\n\u001b[1;32m   1431\u001b[0m \u001b[38;5;28;01mdef\u001b[39;00m \u001b[38;5;21minner\u001b[39m(ax, \u001b[38;5;241m*\u001b[39margs, data\u001b[38;5;241m=\u001b[39m\u001b[38;5;28;01mNone\u001b[39;00m, \u001b[38;5;241m*\u001b[39m\u001b[38;5;241m*\u001b[39mkwargs):\n\u001b[1;32m   1432\u001b[0m     \u001b[38;5;28;01mif\u001b[39;00m data \u001b[38;5;129;01mis\u001b[39;00m \u001b[38;5;28;01mNone\u001b[39;00m:\n\u001b[0;32m-> 1433\u001b[0m         \u001b[38;5;28;01mreturn\u001b[39;00m \u001b[43mfunc\u001b[49m\u001b[43m(\u001b[49m\u001b[43max\u001b[49m\u001b[43m,\u001b[49m\u001b[43m \u001b[49m\u001b[38;5;241;43m*\u001b[39;49m\u001b[38;5;28;43mmap\u001b[39;49m\u001b[43m(\u001b[49m\u001b[43msanitize_sequence\u001b[49m\u001b[43m,\u001b[49m\u001b[43m \u001b[49m\u001b[43margs\u001b[49m\u001b[43m)\u001b[49m\u001b[43m,\u001b[49m\u001b[43m \u001b[49m\u001b[38;5;241;43m*\u001b[39;49m\u001b[38;5;241;43m*\u001b[39;49m\u001b[43mkwargs\u001b[49m\u001b[43m)\u001b[49m\n\u001b[1;32m   1435\u001b[0m     bound \u001b[38;5;241m=\u001b[39m new_sig\u001b[38;5;241m.\u001b[39mbind(ax, \u001b[38;5;241m*\u001b[39margs, \u001b[38;5;241m*\u001b[39m\u001b[38;5;241m*\u001b[39mkwargs)\n\u001b[1;32m   1436\u001b[0m     auto_label \u001b[38;5;241m=\u001b[39m (bound\u001b[38;5;241m.\u001b[39marguments\u001b[38;5;241m.\u001b[39mget(label_namer)\n\u001b[1;32m   1437\u001b[0m                   \u001b[38;5;129;01mor\u001b[39;00m bound\u001b[38;5;241m.\u001b[39mkwargs\u001b[38;5;241m.\u001b[39mget(label_namer))\n",
      "File \u001b[0;32m/srv/conda/envs/notebook/lib/python3.10/site-packages/matplotlib/axes/_axes.py:6189\u001b[0m, in \u001b[0;36mAxes.pcolormesh\u001b[0;34m(self, alpha, norm, cmap, vmin, vmax, shading, antialiased, *args, **kwargs)\u001b[0m\n\u001b[1;32m   6186\u001b[0m t \u001b[38;5;241m=\u001b[39m collection\u001b[38;5;241m.\u001b[39m_transform\n\u001b[1;32m   6187\u001b[0m \u001b[38;5;28;01mif\u001b[39;00m (\u001b[38;5;129;01mnot\u001b[39;00m \u001b[38;5;28misinstance\u001b[39m(t, mtransforms\u001b[38;5;241m.\u001b[39mTransform) \u001b[38;5;129;01mand\u001b[39;00m\n\u001b[1;32m   6188\u001b[0m         \u001b[38;5;28mhasattr\u001b[39m(t, \u001b[38;5;124m'\u001b[39m\u001b[38;5;124m_as_mpl_transform\u001b[39m\u001b[38;5;124m'\u001b[39m)):\n\u001b[0;32m-> 6189\u001b[0m     t \u001b[38;5;241m=\u001b[39m \u001b[43mt\u001b[49m\u001b[38;5;241;43m.\u001b[39;49m\u001b[43m_as_mpl_transform\u001b[49m\u001b[43m(\u001b[49m\u001b[38;5;28;43mself\u001b[39;49m\u001b[38;5;241;43m.\u001b[39;49m\u001b[43maxes\u001b[49m\u001b[43m)\u001b[49m\n\u001b[1;32m   6191\u001b[0m \u001b[38;5;28;01mif\u001b[39;00m t \u001b[38;5;129;01mand\u001b[39;00m \u001b[38;5;28many\u001b[39m(t\u001b[38;5;241m.\u001b[39mcontains_branch_seperately(\u001b[38;5;28mself\u001b[39m\u001b[38;5;241m.\u001b[39mtransData)):\n\u001b[1;32m   6192\u001b[0m     trans_to_data \u001b[38;5;241m=\u001b[39m t \u001b[38;5;241m-\u001b[39m \u001b[38;5;28mself\u001b[39m\u001b[38;5;241m.\u001b[39mtransData\n",
      "File \u001b[0;32m/srv/conda/envs/notebook/lib/python3.10/site-packages/cartopy/crs.py:250\u001b[0m, in \u001b[0;36mCRS._as_mpl_transform\u001b[0;34m(self, axes)\u001b[0m\n\u001b[1;32m    248\u001b[0m \u001b[38;5;28;01mimport\u001b[39;00m \u001b[38;5;21;01mcartopy\u001b[39;00m\u001b[38;5;21;01m.\u001b[39;00m\u001b[38;5;21;01mmpl\u001b[39;00m\u001b[38;5;21;01m.\u001b[39;00m\u001b[38;5;21;01mgeoaxes\u001b[39;00m \u001b[38;5;28;01mas\u001b[39;00m \u001b[38;5;21;01mgeoaxes\u001b[39;00m\n\u001b[1;32m    249\u001b[0m \u001b[38;5;28;01mif\u001b[39;00m \u001b[38;5;129;01mnot\u001b[39;00m \u001b[38;5;28misinstance\u001b[39m(axes, geoaxes\u001b[38;5;241m.\u001b[39mGeoAxes):\n\u001b[0;32m--> 250\u001b[0m     \u001b[38;5;28;01mraise\u001b[39;00m \u001b[38;5;167;01mValueError\u001b[39;00m(\n\u001b[1;32m    251\u001b[0m         \u001b[38;5;124m'\u001b[39m\u001b[38;5;124mAxes should be an instance of GeoAxes, got \u001b[39m\u001b[38;5;132;01m%s\u001b[39;00m\u001b[38;5;124m'\u001b[39m \u001b[38;5;241m%\u001b[39m \u001b[38;5;28mtype\u001b[39m(axes)\n\u001b[1;32m    252\u001b[0m     )\n\u001b[1;32m    253\u001b[0m \u001b[38;5;28;01mreturn\u001b[39;00m (\n\u001b[1;32m    254\u001b[0m     geoaxes\u001b[38;5;241m.\u001b[39mInterProjectionTransform(\u001b[38;5;28mself\u001b[39m, axes\u001b[38;5;241m.\u001b[39mprojection) \u001b[38;5;241m+\u001b[39m\n\u001b[1;32m    255\u001b[0m     axes\u001b[38;5;241m.\u001b[39mtransData\n\u001b[1;32m    256\u001b[0m )\n",
      "\u001b[0;31mValueError\u001b[0m: Axes should be an instance of GeoAxes, got <class 'matplotlib.axes._subplots.AxesSubplot'>"
     ]
    },
    {
     "data": {
      "image/png": "[encoded data removed]",
      "text/plain": [
       "<Figure size 800x600 with 1 Axes>"
      ]
     },
     "metadata": {},
     "output_type": "display_data"
    }
   ],
   "source": [
    "plt.figure()\n",
    "row = 1\n",
    "column = 1\n",
    "months = ['Jan', 'Feb', 'Mar', 'Apr', 'May', 'Jun', 'Jul', 'Aug', 'Sep', 'Oct', 'Nov', 'Dec']\n",
    "\n",
    "for year in np.arange(2014, 2017):\n",
    "    for month in np.arange(1, 13):\n",
    "        if year == 16 & month == 9:  # don't need to plot beyond September for 2016\n",
    "            break\n",
    "        anomaly = get_anomaly(year, month)\n",
    "        make_fig(plt.subplot(month, year - 2013, year - 2013), months[month-1], anomaly)"
   ]
  },
  {
   "cell_type": "code",
   "execution_count": null,
   "id": "2eb0f921-1ee7-4184-9ca8-1bd796b68284",
   "metadata": {},
   "outputs": [],
   "source": []
  }
 ],
 "metadata": {
  "kernelspec": {
   "display_name": "Python 3 (ipykernel)",
   "language": "python",
   "name": "python3"
  },
  "language_info": {
   "codemirror_mode": {
    "name": "ipython",
    "version": 3
   },
   "file_extension": ".py",
   "mimetype": "text/x-python",
   "name": "python",
   "nbconvert_exporter": "python",
   "pygments_lexer": "ipython3",
   "version": "3.10.8"
  }
 },
 "nbformat": 4,
 "nbformat_minor": 5
}
