{
 "cells": [
  {
   "cell_type": "markdown",
   "id": "63ed1f49-2486-4a8f-a674-28696adaf701",
   "metadata": {
    "user_expressions": []
   },
   "source": [
    "# Question 4: The West Coast Heatwave, Figure 1"
   ]
  },
  {
   "cell_type": "code",
   "execution_count": 1,
   "id": "92711e93-0ac8-4087-ab30-f6cdb475c5ec",
   "metadata": {},
   "outputs": [],
   "source": [
    "import matplotlib.pyplot as plt\n",
    "import numpy as np\n",
    "import pandas as pd\n",
    "import seaborn as sns\n",
    "import os\n",
    "\n",
    "from pathlib import Path\n",
    "\n",
    "# Small style adjustments for more readable plots\n",
    "plt.style.use(\"seaborn-v0_8-whitegrid\")\n",
    "plt.rcParams[\"figure.figsize\"] = (8, 6)\n",
    "plt.rcParams[\"font.size\"] = 14"
   ]
  },
  {
   "cell_type": "code",
   "execution_count": 2,
   "id": "8ed6f13e-1701-4d44-84bc-67c74dc26234",
   "metadata": {},
   "outputs": [],
   "source": [
    "import cartopy.crs as ccrs\n",
    "import cartopy.feature as cfeature\n",
    "import fsspec\n",
    "\n",
    "import xarray as xr\n",
    "xr.set_options(display_style=\"html\")  # display dataset nicely\n",
    "\n",
    "import warnings\n",
    "warnings.simplefilter(\"ignore\")  # filter some warning messages\n",
    "\n",
    "# code features from https://scitools.org.uk/cartopy/docs/v0.14/matplotlib/feature_interface.html\n",
    "crs = ccrs.PlateCarree()  # set projection"
   ]
  },
  {
   "cell_type": "code",
   "execution_count": 3,
   "id": "0653b1c0-c98c-4744-a03a-e77b6d3333d1",
   "metadata": {},
   "outputs": [],
   "source": [
    "ds = xr.open_dataset(\"~/shared/climate-data/ds_hw.nc\")"
   ]
  },
  {
   "cell_type": "markdown",
   "id": "a0363643-f15a-4846-8f2d-1b702b6d98ae",
   "metadata": {
    "user_expressions": []
   },
   "source": [
    "## Calculating SST Data from 2002-2012 for Anomaly Calculations"
   ]
  },
  {
   "cell_type": "markdown",
   "id": "2538f3e6-0a78-4f07-b086-438183911c1f",
   "metadata": {
    "tags": [],
    "user_expressions": []
   },
   "source": [
    "Figure 1 shows the monthly anomalies for 2014-2016, using SST from 2002-2012 per month and per location as the baseline. So, we first need to calculate this baseline. Then, we calculate the SST values from 2014-2016 per month and per location as our observed data. We then find the anomalies, which is the difference between the observed and baseline. Finally, we calculate the SD of these anomalies."
   ]
  },
  {
   "cell_type": "code",
   "execution_count": 31,
   "id": "a310fad6-e76a-4a77-9052-21ce0b93b8f8",
   "metadata": {},
   "outputs": [],
   "source": [
    "trend_data = ds.analysed_sst.sel(time = slice('2002', '2012'))\n",
    "\n",
    "baseline = trend_data.groupby('time.month').mean(skipna=True) # find monthly averages\n",
    "\n",
    "fourteen = ds.analysed_sst.sel(time = slice('2014-01-01', '2014-12-31'))\n",
    "fifteen = ds.analysed_sst.sel(time = slice('2015-01-01', '2015-12-31'))\n",
    "sixteen = ds.analysed_sst.sel(time = slice('2016-01-01', '2016-09-30'))\n",
    "\n",
    "anomalies_14 = fourteen.groupby('time.month').mean(skipna=True) - baseline # anomalies = observed - baseline avg\n",
    "anomalies_15 = fifteen.groupby('time.month').mean(skipna=True) - baseline\n",
    "anomalies_16 = sixteen.groupby('time.month').mean(skipna=True) - baseline\n",
    "\n",
    "sd_14 = anomalies_14.std(skipna=True) # SDs over the given month for lat/long\n",
    "sd_15 = anomalies_15.std(skipna=True)\n",
    "sd_16 = anomalies_16.std(skipna=True)\n",
    "\n",
    "sd_anomalies_14 = anomalies_14 / sd_14 # how many SDs each anomaly is (Z score calculation)\n",
    "sd_anomalies_15 = anomalies_15 / sd_15\n",
    "sd_anomalies_16 = anomalies_16 / sd_16"
   ]
  },
  {
   "cell_type": "markdown",
   "id": "012f6f89-6891-42b6-9985-b0770ccc0a3f",
   "metadata": {
    "user_expressions": []
   },
   "source": [
    "## Creating Figures"
   ]
  },
  {
   "cell_type": "markdown",
   "id": "b67714b8-fccf-4fd3-a350-4ff90f7ac53c",
   "metadata": {
    "user_expressions": []
   },
   "source": [
    "We now plot the anomalies for 2014, 2015, and 2016 (only through September for 2016) based on location."
   ]
  },
  {
   "cell_type": "code",
   "execution_count": null,
   "id": "46597b6f-7620-44ac-bd2e-6e12761fac3b",
   "metadata": {},
   "outputs": [],
   "source": [
    "def annotate_map(ax, month):\n",
    "    \"\"\"\n",
    "    Helper function for adding latitude/longitude ticks,\n",
    "    land lines, and subplot letter label to map.\n",
    "    \"\"\"\n",
    "    # add lat/lon axis ticks\n",
    "    ax.set_yticks([35, 40, 45], crs=crs)\n",
    "    ax.set_ylabel(None)\n",
    "    ax.set_xticks([-130, -120], crs=crs)\n",
    "    ax.set_xlabel(None)\n",
    "\n",
    "    # add land & coastlines\n",
    "    ax.coastlines(\"10m\", color=\"k\")\n",
    "    ax.add_feature(cfeature.LAND, color=\"grey\")\n",
    "    ax.add_feature(cfeature.STATES.with_scale(\"10m\"))\n",
    "    \n",
    "    # add subplot month label in the top right\n",
    "    ax.text(-118.5, 48, month, c='white', size='xx-large',\n",
    "            weight=600, ha='right', va='top')"
   ]
  },
  {
   "cell_type": "code",
   "execution_count": null,
   "id": "f081bd6b-4bcb-49da-acbe-8934cba8ba05",
   "metadata": {},
   "outputs": [],
   "source": [
    "def make_fig(ax, month, year):\n",
    "    \n",
    "    # colorbar customization\n",
    "    cbar_kwargs = {\n",
    "        'location': 'bottom',\n",
    "        'orientation': 'horizontal',\n",
    "        'pad': 0.1,\n",
    "        'aspect': 30,\n",
    "        'label': '$\\Delta$ SST ($\\degree$C)',\n",
    "        'ticks': np.arange(-2, 3, 2)\n",
    "    }\n",
    "\n",
    "    year.plot(ax=ax, transform=crs, cmap='jet',\n",
    "                        cbar_kwargs=cbar_kwargs,\n",
    "                        vmin=0, vmax=5\n",
    "    )\n",
    "\n",
    "    annotate_map(ax, letter = month)\n",
    "\n",
    "fig = plt.figure(figsize=(5, 8))\n",
    "ax = plt.subplot(projection=crs)\n",
    "make_fig(ax, 'Dec', fourteen)\n",
    "#fig.savefig(\"outputs/Q04.png\", bbox_inches=\"tight\")"
   ]
  }
 ],
 "metadata": {
  "kernelspec": {
   "display_name": "Python 3 (ipykernel)",
   "language": "python",
   "name": "python3"
  },
  "language_info": {
   "codemirror_mode": {
    "name": "ipython",
    "version": 3
   },
   "file_extension": ".py",
   "mimetype": "text/x-python",
   "name": "python",
   "nbconvert_exporter": "python",
   "pygments_lexer": "ipython3",
   "version": "3.10.8"
  }
 },
 "nbformat": 4,
 "nbformat_minor": 5
}
